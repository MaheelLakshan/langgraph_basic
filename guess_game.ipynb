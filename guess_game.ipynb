{
 "cells": [
  {
   "cell_type": "code",
   "execution_count": 14,
   "id": "52d0fd45",
   "metadata": {},
   "outputs": [
    {
     "name": "stdout",
     "output_type": "stream",
     "text": [
      "Attempt 1: Guess was 15, hint: lower\n",
      "Attempt 2: Guess was 4, hint: lower\n",
      "Attempt 3: Guess was 1, hint: higher\n",
      "Guessed correctly in 4 attempts! The number was 3.\n"
     ]
    },
    {
     "data": {
      "text/plain": [
       "{'player_name': 'Student',\n",
       " 'guesses': [15, 4, 1, 3],\n",
       " 'attempts': 4,\n",
       " 'lower_bound': 2,\n",
       " 'upper_bound': 3,\n",
       " 'target': 3,\n",
       " 'last_hint': 'correct'}"
      ]
     },
     "execution_count": 14,
     "metadata": {},
     "output_type": "execute_result"
    }
   ],
   "source": [
    "from langgraph.graph import END, StateGraph\n",
    "from typing import TypedDict, List\n",
    "import random\n",
    "\n",
    "class GameState(TypedDict):\n",
    "    player_name: str\n",
    "    guesses: List[int]\n",
    "    attempts: int\n",
    "    lower_bound: int\n",
    "    upper_bound: int\n",
    "    target: int  # The number to guess\n",
    "    last_hint: str  # \"higher\", \"lower\", or \"correct\"\n",
    "\n",
    "def guess_node(state: GameState) -> GameState:\n",
    "    guess = random.randint(state['lower_bound'], state['upper_bound'])\n",
    "    state['guesses'].append(guess)\n",
    "    state['attempts'] += 1\n",
    "    return state\n",
    "\n",
    "def hint_node(state: GameState) -> GameState:\n",
    "    guess = state['guesses'][-1]\n",
    "    if guess < state['target']:\n",
    "        state['last_hint'] = \"higher\"\n",
    "        state['lower_bound'] = max(state['lower_bound'], guess + 1)\n",
    "    elif guess > state['target']:\n",
    "        state['last_hint'] = \"lower\"\n",
    "        state['upper_bound'] = min(state['upper_bound'], guess - 1)\n",
    "    else:\n",
    "        state['last_hint'] = \"correct\"\n",
    "    return state\n",
    "\n",
    "def should_continue(state: GameState):\n",
    "    if state['last_hint'] == \"correct\":\n",
    "        print(f\"Guessed correctly in {state['attempts']} attempts! The number was {state['target']}.\")\n",
    "        return \"exit\"\n",
    "    elif state['attempts'] >= 7:\n",
    "        print(f\"Max attempts reached. The number was {state['target']}.\")\n",
    "        return \"exit\"\n",
    "    else:\n",
    "        print(f\"Attempt {state['attempts']}: Guess was {state['guesses'][-1]}, hint: {state['last_hint']}\")\n",
    "        return \"loop\"\n",
    "\n",
    "graph = StateGraph(GameState)\n",
    "graph.add_node(\"guess\", guess_node)\n",
    "graph.add_node(\"hint\", hint_node)\n",
    "graph.add_edge(\"guess\", \"hint\")\n",
    "graph.add_conditional_edges(\n",
    "    \"hint\",\n",
    "    should_continue,\n",
    "    {\n",
    "        \"loop\": \"guess\",\n",
    "        \"exit\": END\n",
    "    }\n",
    ")\n",
    "graph.set_entry_point(\"guess\")\n",
    "app = graph.compile()\n",
    "\n",
    "# Example run:\n",
    "target_number = random.randint(1, 20)\n",
    "initial_state = {\n",
    "    \"player_name\": \"Student\",\n",
    "    \"guesses\": [],\n",
    "    \"attempts\": 0,\n",
    "    \"lower_bound\": 1,\n",
    "    \"upper_bound\": 20,\n",
    "    \"target\": target_number,\n",
    "    \"last_hint\": \"\"\n",
    "}\n",
    "app.invoke(initial_state)"
   ]
  }
 ],
 "metadata": {
  "kernelspec": {
   "display_name": "venv (3.9.11)",
   "language": "python",
   "name": "python3"
  },
  "language_info": {
   "codemirror_mode": {
    "name": "ipython",
    "version": 3
   },
   "file_extension": ".py",
   "mimetype": "text/x-python",
   "name": "python",
   "nbconvert_exporter": "python",
   "pygments_lexer": "ipython3",
   "version": "3.9.11"
  }
 },
 "nbformat": 4,
 "nbformat_minor": 5
}
